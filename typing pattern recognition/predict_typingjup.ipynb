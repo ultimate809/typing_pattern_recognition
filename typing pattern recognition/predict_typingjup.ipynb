{
 "cells": [
  {
   "cell_type": "code",
   "execution_count": 2,
   "metadata": {},
   "outputs": [],
   "source": [
    "\n",
    "import numpy as np\n",
    "import pandas as pd\n",
    "from sklearn.neighbors import KNeighborsClassifier\n",
    "import sys      \n"
   ]
  },
  {
   "cell_type": "code",
   "execution_count": 51,
   "metadata": {},
   "outputs": [
    {
     "name": "stdout",
     "output_type": "stream",
     "text": [
      "     0    1    2    3    4    5    6\n",
      "0  195  133  139  170  177  127  452\n"
     ]
    }
   ],
   "source": [
    "a = pd.read_csv(\"data.csv\",header=None)\n",
    "b = pd.read_csv(\"test.csv\")\n",
    "test = np.array(b.loc[0])\n",
    "print(b)"
   ]
  },
  {
   "cell_type": "code",
   "execution_count": 57,
   "metadata": {},
   "outputs": [
    {
     "name": "stdout",
     "output_type": "stream",
     "text": [
      "['shaurya' 'shaurya' 'shaurya' 'shaurya' 'sen' 'sen']\n"
     ]
    }
   ],
   "source": [
    "numpy = np.array(a) \n",
    "retval = [None] * 3                     #array for storing final result\n",
    "offset = [3,2,2]            #offset for analysing different letters\n",
    "x = numpy[:,:-1]                        #training data # all rows and all col without last col\n",
    "y = numpy[:,-1]                         #target data  # only last col and all rows\n",
    "knn_classifier = KNeighborsClassifier(n_neighbors = 3)\n",
    "print(y)"
   ]
  },
  {
   "cell_type": "code",
   "execution_count": 58,
   "metadata": {},
   "outputs": [
    {
     "name": "stdout",
     "output_type": "stream",
     "text": [
      "[[139 122 152]\n",
      " [213 127 150]\n",
      " [187 107 148]\n",
      " [142 116 178]\n",
      " [114 188 318]\n",
      " [136 151 357]]\n",
      "nex\n",
      "3\n",
      "[[140 146]\n",
      " [124 154]\n",
      " [141 158]\n",
      " [173 134]\n",
      " [121 182]\n",
      " [124 280]]\n",
      "nex\n",
      "5\n",
      "[[94 246]\n",
      " [88 524]\n",
      " [106 266]\n",
      " [84 456]\n",
      " [206 177]\n",
      " [153 156]]\n",
      "nex\n",
      "7\n"
     ]
    }
   ],
   "source": [
    "from sklearn.svm import SVC  \n",
    "svclassifier = SVC(kernel='linear')  \n",
    "\n",
    "i = 0\n",
    "s = 0                                   #starting index for reading word\n",
    "while i < 3:\n",
    "    t = np.array(x[:,s:s+offset[i]])\n",
    "    print(t)\n",
    "    print(\"nex\")\n",
    "    svclassifier.fit(t, y)\n",
    "    \n",
    "    t1= np.array(test[s:s+offset[i]])\n",
    "    t1=t1.reshape(1, -1)\n",
    "    retval[i] = svclassifier.predict(t1)#predcting value and storing in array \n",
    "    s = s+offset[i]\n",
    "    print(s)\n",
    "    i += 1;                             \n",
    "                      #increasing offset for pointing to next word\n",
    "    "
   ]
  },
  {
   "cell_type": "code",
   "execution_count": 61,
   "metadata": {},
   "outputs": [
    {
     "name": "stdout",
     "output_type": "stream",
     "text": [
      "['shaurya']\n"
     ]
    }
   ],
   "source": [
    "i = 0\n",
    "count = -1\n",
    "prev = 1\n",
    "store = retval[0]\n",
    "\n",
    "retval.sort()                       #sorting predicted values for finding the most repeated person\n",
    "while i < 2:\n",
    "    if (retval[i] == retval[i+1]):\n",
    "        prev += 1\n",
    "        if(count < prev):\n",
    "            store = retval[i]       #storing name of person with highest frequency\n",
    "            count = prev\n",
    "    else :\n",
    "        prev = 1;\n",
    "    i += 1\n",
    "           \n",
    "print(store)\n",
    "                  #flushing value to stdout\n"
   ]
  },
  {
   "cell_type": "code",
   "execution_count": null,
   "metadata": {},
   "outputs": [],
   "source": []
  },
  {
   "cell_type": "code",
   "execution_count": null,
   "metadata": {},
   "outputs": [],
   "source": []
  }
 ],
 "metadata": {
  "kernelspec": {
   "display_name": "Python 3",
   "language": "python",
   "name": "python3"
  },
  "language_info": {
   "codemirror_mode": {
    "name": "ipython",
    "version": 3
   },
   "file_extension": ".py",
   "mimetype": "text/x-python",
   "name": "python",
   "nbconvert_exporter": "python",
   "pygments_lexer": "ipython3",
   "version": "3.5.2"
  }
 },
 "nbformat": 4,
 "nbformat_minor": 2
}
